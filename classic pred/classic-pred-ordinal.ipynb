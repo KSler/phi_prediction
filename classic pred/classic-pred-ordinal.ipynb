{
 "cells": [
  {
   "cell_type": "code",
   "id": "initial_id",
   "metadata": {
    "collapsed": true,
    "ExecuteTime": {
     "end_time": "2025-06-27T06:39:08.550342Z",
     "start_time": "2025-06-27T06:39:07.975276Z"
    }
   },
   "source": [
    "import pandas as pd\n",
    "from sklearn.metrics import mean_squared_error, mean_absolute_error, r2_score\n",
    "import os\n",
    "from xgboost import XGBRegressor\n",
    "from sklearn.ensemble import RandomForestRegressor\n",
    "from sklearn.model_selection import StratifiedKFold, GridSearchCV\n",
    "from sklearn.preprocessing import KBinsDiscretizer\n",
    "from tqdm import tqdm\n",
    "import numpy as np"
   ],
   "outputs": [],
   "execution_count": 1
  },
  {
   "metadata": {
    "ExecuteTime": {
     "end_time": "2025-06-27T06:39:08.580853Z",
     "start_time": "2025-06-27T06:39:08.569348Z"
    }
   },
   "cell_type": "code",
   "source": [
    "def get_aupr(pre, rec):\n",
    "    pr_value = 0.0\n",
    "    for ii in range(len(rec[:-1])):\n",
    "        x_r, x_l = rec[ii], rec[ii+1]\n",
    "        y_t, y_b = pre[ii], pre[ii+1]\n",
    "        tempo = abs(x_r - x_l) * (y_t + y_b) * 0.5\n",
    "        pr_value += tempo\n",
    "    return pr_value\n",
    "\n",
    "from sklearn.metrics import confusion_matrix\n",
    "\n",
    "def scores_regression(y_true, y_pred):\n",
    "    # Round predictions to nearest class (0–4)\n",
    "    y_pred_class = np.clip(np.round(y_pred).astype(int), 0, 4)\n",
    "\n",
    "    # Core regression metrics\n",
    "    mse = mean_squared_error(y_true, y_pred)\n",
    "    rmse = np.sqrt(mse)\n",
    "    mae = mean_absolute_error(y_true, y_pred)\n",
    "    r2 = r2_score(y_true, y_pred)\n",
    "\n",
    "    # Confusion matrix\n",
    "    cm = confusion_matrix(y_true, y_pred_class, labels=[0, 1, 2, 3, 4])\n",
    "\n",
    "    return [mse, rmse, mae, r2], cm\n",
    "\n"
   ],
   "id": "975965aed8fc082f",
   "outputs": [],
   "execution_count": 2
  },
  {
   "metadata": {
    "ExecuteTime": {
     "end_time": "2025-06-27T06:39:09.050024Z",
     "start_time": "2025-06-27T06:39:09.039023Z"
    }
   },
   "cell_type": "code",
   "source": [
    "def combine_features(phage_dna, host_dna, phage_pro, host_pro):\n",
    "    combined = np.concatenate([phage_dna, host_dna, phage_pro, host_pro], axis=1)\n",
    "    return combined\n",
    "\n",
    "\n",
    "def load_feature_vector(file_path):\n",
    "    return np.loadtxt(file_path)\n",
    "\n",
    "\n",
    "def obtain_features(phage_list, host_list, labels, dna_base, pro_base):\n",
    "    X_phage_dna, X_host_dna = [], []\n",
    "    X_phage_pro, X_host_pro = [], []\n",
    "    for p, h in zip(phage_list, host_list):\n",
    "        X_phage_dna.append(load_feature_vector(os.path.join(dna_base, 'phage', f'{p}.txt')))\n",
    "        X_host_dna.append(load_feature_vector(os.path.join(dna_base, 'bacteria', f'{h}.txt')))\n",
    "        X_phage_pro.append(load_feature_vector(os.path.join(pro_base, 'phage', f'{p}.txt')))\n",
    "        X_host_pro.append(load_feature_vector(os.path.join(pro_base, 'bacteria', f'{h}.txt')))\n",
    "    return (np.array(X_phage_dna), np.array(X_host_dna),\n",
    "            np.array(X_phage_pro), np.array(X_host_pro),\n",
    "            np.array(labels))\n"
   ],
   "id": "8af784479d70d9b1",
   "outputs": [],
   "execution_count": 3
  },
  {
   "metadata": {
    "ExecuteTime": {
     "end_time": "2025-06-27T06:41:11.841221Z",
     "start_time": "2025-06-27T06:41:11.822219Z"
    }
   },
   "cell_type": "code",
   "source": [
    "interaction_matrix_path = \"./ordinal_dataset_features/ordinal_interaction_matrix.csv\"\n",
    "\n",
    "dna_base = './ordinal_dataset_features/dna_features_ordinal_data'\n",
    "pro_base = './ordinal_dataset_features/prot_features_ordinal_data'"
   ],
   "id": "479b28b9c4026778",
   "outputs": [],
   "execution_count": 4
  },
  {
   "metadata": {
    "ExecuteTime": {
     "end_time": "2025-06-27T06:41:14.328358Z",
     "start_time": "2025-06-27T06:41:14.300358Z"
    }
   },
   "cell_type": "code",
   "source": [
    "df = pd.read_csv(interaction_matrix_path, index_col=0, sep=\";\")\n",
    "\n",
    "valid_phages = set([f.split('.')[0] for f in os.listdir(dna_base + \"/phage\") if f.endswith('.txt')])\n",
    "valid_hosts = set([f.split('.')[0] for f in os.listdir(pro_base + \"/bacteria\") if f.endswith('.txt')])\n",
    "\n",
    "#filter unused interaction since matrix to large\n",
    "df = df.loc[df.index.intersection(valid_hosts), df.columns.intersection(valid_phages)]\n",
    "\n",
    "phages = df.columns.tolist()\n",
    "hosts = df.index.tolist()\n",
    "print(len(phages))\n",
    "print(len(hosts))\n",
    "# Prepare data as list of (phage, host, label)"
   ],
   "id": "95855554102c4",
   "outputs": [
    {
     "name": "stdout",
     "output_type": "stream",
     "text": [
      "96\n",
      "402\n"
     ]
    }
   ],
   "execution_count": 5
  },
  {
   "metadata": {
    "ExecuteTime": {
     "end_time": "2025-06-27T06:41:24.761211Z",
     "start_time": "2025-06-27T06:41:24.607900Z"
    }
   },
   "cell_type": "code",
   "source": [
    "all_data = []\n",
    "\n",
    "for p in phages:\n",
    "    for h in hosts:\n",
    "        label = df.loc[h, p]\n",
    "        if pd.isna(label):\n",
    "            continue  # Skip missing values\n",
    "        all_data.append([p, h, label])"
   ],
   "id": "cf48ad2aaf2eb3fb",
   "outputs": [],
   "execution_count": 6
  },
  {
   "metadata": {
    "ExecuteTime": {
     "end_time": "2025-06-27T11:43:12.210913Z",
     "start_time": "2025-06-27T11:43:07.623378Z"
    }
   },
   "cell_type": "code",
   "source": [
    "\n",
    "labels = np.asarray([row[2] for row in all_data])\n",
    "binner = KBinsDiscretizer(n_bins=5, encode='ordinal', strategy='uniform')\n",
    "stratify_labels = binner.fit_transform(labels.reshape(-1, 1)).astype(int).ravel()\n",
    "\n",
    "kf = StratifiedKFold(n_splits=5, random_state=42, shuffle=True)\n",
    "\n",
    "X_full = []\n",
    "y_full = []\n",
    "for row in all_data:\n",
    "    X_full.append(combine_features(*obtain_features([row[0]], [row[1]], [row[2]], dna_base, pro_base)[:-1]))\n",
    "    y_full.append(row[2])\n",
    "X_full = np.vstack(X_full)\n",
    "y_full = np.array(y_full)\n",
    "\n",
    "param_grid = {\n",
    "    'n_estimators': [200],#100\n",
    "    'max_depth': [ 10],#10,\n",
    "    'learning_rate': [ 0.1],#0.05,\n",
    "}\n",
    "\n",
    "reg_base = XGBRegressor(objective='reg:squarederror', n_jobs=-1, random_state=42)\n",
    "grid_search = GridSearchCV(reg_base, param_grid, cv=3, n_jobs=-1, scoring='neg_mean_squared_error', verbose=1)\n",
    "grid_search.fit(X_full, y_full)\n",
    "best_params = grid_search.best_params_\n",
    "print(\"Best Hyperparameters:\", best_params)"
   ],
   "id": "a436f4fa51bc4cd3",
   "outputs": [
    {
     "ename": "KeyboardInterrupt",
     "evalue": "",
     "output_type": "error",
     "traceback": [
      "\u001B[1;31m---------------------------------------------------------------------------\u001B[0m",
      "\u001B[1;31mKeyboardInterrupt\u001B[0m                         Traceback (most recent call last)",
      "Cell \u001B[1;32mIn[9], line 10\u001B[0m\n\u001B[0;32m      8\u001B[0m y_full \u001B[38;5;241m=\u001B[39m []\n\u001B[0;32m      9\u001B[0m \u001B[38;5;28;01mfor\u001B[39;00m row \u001B[38;5;129;01min\u001B[39;00m all_data:\n\u001B[1;32m---> 10\u001B[0m     X_full\u001B[38;5;241m.\u001B[39mappend(combine_features(\u001B[38;5;241m*\u001B[39m\u001B[43mobtain_features\u001B[49m\u001B[43m(\u001B[49m\u001B[43m[\u001B[49m\u001B[43mrow\u001B[49m\u001B[43m[\u001B[49m\u001B[38;5;241;43m0\u001B[39;49m\u001B[43m]\u001B[49m\u001B[43m]\u001B[49m\u001B[43m,\u001B[49m\u001B[43m \u001B[49m\u001B[43m[\u001B[49m\u001B[43mrow\u001B[49m\u001B[43m[\u001B[49m\u001B[38;5;241;43m1\u001B[39;49m\u001B[43m]\u001B[49m\u001B[43m]\u001B[49m\u001B[43m,\u001B[49m\u001B[43m \u001B[49m\u001B[43m[\u001B[49m\u001B[43mrow\u001B[49m\u001B[43m[\u001B[49m\u001B[38;5;241;43m2\u001B[39;49m\u001B[43m]\u001B[49m\u001B[43m]\u001B[49m\u001B[43m,\u001B[49m\u001B[43m \u001B[49m\u001B[43mdna_base\u001B[49m\u001B[43m,\u001B[49m\u001B[43m \u001B[49m\u001B[43mpro_base\u001B[49m\u001B[43m)\u001B[49m[:\u001B[38;5;241m-\u001B[39m\u001B[38;5;241m1\u001B[39m]))\n\u001B[0;32m     11\u001B[0m     y_full\u001B[38;5;241m.\u001B[39mappend(row[\u001B[38;5;241m2\u001B[39m])\n\u001B[0;32m     12\u001B[0m X_full \u001B[38;5;241m=\u001B[39m np\u001B[38;5;241m.\u001B[39mvstack(X_full)\n",
      "Cell \u001B[1;32mIn[3], line 16\u001B[0m, in \u001B[0;36mobtain_features\u001B[1;34m(phage_list, host_list, labels, dna_base, pro_base)\u001B[0m\n\u001B[0;32m     14\u001B[0m     X_phage_dna\u001B[38;5;241m.\u001B[39mappend(load_feature_vector(os\u001B[38;5;241m.\u001B[39mpath\u001B[38;5;241m.\u001B[39mjoin(dna_base, \u001B[38;5;124m'\u001B[39m\u001B[38;5;124mphage\u001B[39m\u001B[38;5;124m'\u001B[39m, \u001B[38;5;124mf\u001B[39m\u001B[38;5;124m'\u001B[39m\u001B[38;5;132;01m{\u001B[39;00mp\u001B[38;5;132;01m}\u001B[39;00m\u001B[38;5;124m.txt\u001B[39m\u001B[38;5;124m'\u001B[39m)))\n\u001B[0;32m     15\u001B[0m     X_host_dna\u001B[38;5;241m.\u001B[39mappend(load_feature_vector(os\u001B[38;5;241m.\u001B[39mpath\u001B[38;5;241m.\u001B[39mjoin(dna_base, \u001B[38;5;124m'\u001B[39m\u001B[38;5;124mbacteria\u001B[39m\u001B[38;5;124m'\u001B[39m, \u001B[38;5;124mf\u001B[39m\u001B[38;5;124m'\u001B[39m\u001B[38;5;132;01m{\u001B[39;00mh\u001B[38;5;132;01m}\u001B[39;00m\u001B[38;5;124m.txt\u001B[39m\u001B[38;5;124m'\u001B[39m)))\n\u001B[1;32m---> 16\u001B[0m     X_phage_pro\u001B[38;5;241m.\u001B[39mappend(\u001B[43mload_feature_vector\u001B[49m\u001B[43m(\u001B[49m\u001B[43mos\u001B[49m\u001B[38;5;241;43m.\u001B[39;49m\u001B[43mpath\u001B[49m\u001B[38;5;241;43m.\u001B[39;49m\u001B[43mjoin\u001B[49m\u001B[43m(\u001B[49m\u001B[43mpro_base\u001B[49m\u001B[43m,\u001B[49m\u001B[43m \u001B[49m\u001B[38;5;124;43m'\u001B[39;49m\u001B[38;5;124;43mphage\u001B[39;49m\u001B[38;5;124;43m'\u001B[39;49m\u001B[43m,\u001B[49m\u001B[43m \u001B[49m\u001B[38;5;124;43mf\u001B[39;49m\u001B[38;5;124;43m'\u001B[39;49m\u001B[38;5;132;43;01m{\u001B[39;49;00m\u001B[43mp\u001B[49m\u001B[38;5;132;43;01m}\u001B[39;49;00m\u001B[38;5;124;43m.txt\u001B[39;49m\u001B[38;5;124;43m'\u001B[39;49m\u001B[43m)\u001B[49m\u001B[43m)\u001B[49m)\n\u001B[0;32m     17\u001B[0m     X_host_pro\u001B[38;5;241m.\u001B[39mappend(load_feature_vector(os\u001B[38;5;241m.\u001B[39mpath\u001B[38;5;241m.\u001B[39mjoin(pro_base, \u001B[38;5;124m'\u001B[39m\u001B[38;5;124mbacteria\u001B[39m\u001B[38;5;124m'\u001B[39m, \u001B[38;5;124mf\u001B[39m\u001B[38;5;124m'\u001B[39m\u001B[38;5;132;01m{\u001B[39;00mh\u001B[38;5;132;01m}\u001B[39;00m\u001B[38;5;124m.txt\u001B[39m\u001B[38;5;124m'\u001B[39m)))\n\u001B[0;32m     18\u001B[0m \u001B[38;5;28;01mreturn\u001B[39;00m (np\u001B[38;5;241m.\u001B[39marray(X_phage_dna), np\u001B[38;5;241m.\u001B[39marray(X_host_dna),\n\u001B[0;32m     19\u001B[0m         np\u001B[38;5;241m.\u001B[39marray(X_phage_pro), np\u001B[38;5;241m.\u001B[39marray(X_host_pro),\n\u001B[0;32m     20\u001B[0m         np\u001B[38;5;241m.\u001B[39marray(labels))\n",
      "Cell \u001B[1;32mIn[3], line 7\u001B[0m, in \u001B[0;36mload_feature_vector\u001B[1;34m(file_path)\u001B[0m\n\u001B[0;32m      6\u001B[0m \u001B[38;5;28;01mdef\u001B[39;00m\u001B[38;5;250m \u001B[39m\u001B[38;5;21mload_feature_vector\u001B[39m(file_path):\n\u001B[1;32m----> 7\u001B[0m     \u001B[38;5;28;01mreturn\u001B[39;00m \u001B[43mnp\u001B[49m\u001B[38;5;241;43m.\u001B[39;49m\u001B[43mloadtxt\u001B[49m\u001B[43m(\u001B[49m\u001B[43mfile_path\u001B[49m\u001B[43m)\u001B[49m\n",
      "File \u001B[1;32mD:\\Bachelorarbeit\\Prediction Notebooks\\.venv2\\lib\\site-packages\\numpy\\lib\\_npyio_impl.py:1395\u001B[0m, in \u001B[0;36mloadtxt\u001B[1;34m(fname, dtype, comments, delimiter, converters, skiprows, usecols, unpack, ndmin, encoding, max_rows, quotechar, like)\u001B[0m\n\u001B[0;32m   1392\u001B[0m \u001B[38;5;28;01mif\u001B[39;00m \u001B[38;5;28misinstance\u001B[39m(delimiter, \u001B[38;5;28mbytes\u001B[39m):\n\u001B[0;32m   1393\u001B[0m     delimiter \u001B[38;5;241m=\u001B[39m delimiter\u001B[38;5;241m.\u001B[39mdecode(\u001B[38;5;124m'\u001B[39m\u001B[38;5;124mlatin1\u001B[39m\u001B[38;5;124m'\u001B[39m)\n\u001B[1;32m-> 1395\u001B[0m arr \u001B[38;5;241m=\u001B[39m \u001B[43m_read\u001B[49m\u001B[43m(\u001B[49m\u001B[43mfname\u001B[49m\u001B[43m,\u001B[49m\u001B[43m \u001B[49m\u001B[43mdtype\u001B[49m\u001B[38;5;241;43m=\u001B[39;49m\u001B[43mdtype\u001B[49m\u001B[43m,\u001B[49m\u001B[43m \u001B[49m\u001B[43mcomment\u001B[49m\u001B[38;5;241;43m=\u001B[39;49m\u001B[43mcomment\u001B[49m\u001B[43m,\u001B[49m\u001B[43m \u001B[49m\u001B[43mdelimiter\u001B[49m\u001B[38;5;241;43m=\u001B[39;49m\u001B[43mdelimiter\u001B[49m\u001B[43m,\u001B[49m\n\u001B[0;32m   1396\u001B[0m \u001B[43m            \u001B[49m\u001B[43mconverters\u001B[49m\u001B[38;5;241;43m=\u001B[39;49m\u001B[43mconverters\u001B[49m\u001B[43m,\u001B[49m\u001B[43m \u001B[49m\u001B[43mskiplines\u001B[49m\u001B[38;5;241;43m=\u001B[39;49m\u001B[43mskiprows\u001B[49m\u001B[43m,\u001B[49m\u001B[43m \u001B[49m\u001B[43musecols\u001B[49m\u001B[38;5;241;43m=\u001B[39;49m\u001B[43musecols\u001B[49m\u001B[43m,\u001B[49m\n\u001B[0;32m   1397\u001B[0m \u001B[43m            \u001B[49m\u001B[43munpack\u001B[49m\u001B[38;5;241;43m=\u001B[39;49m\u001B[43munpack\u001B[49m\u001B[43m,\u001B[49m\u001B[43m \u001B[49m\u001B[43mndmin\u001B[49m\u001B[38;5;241;43m=\u001B[39;49m\u001B[43mndmin\u001B[49m\u001B[43m,\u001B[49m\u001B[43m \u001B[49m\u001B[43mencoding\u001B[49m\u001B[38;5;241;43m=\u001B[39;49m\u001B[43mencoding\u001B[49m\u001B[43m,\u001B[49m\n\u001B[0;32m   1398\u001B[0m \u001B[43m            \u001B[49m\u001B[43mmax_rows\u001B[49m\u001B[38;5;241;43m=\u001B[39;49m\u001B[43mmax_rows\u001B[49m\u001B[43m,\u001B[49m\u001B[43m \u001B[49m\u001B[43mquote\u001B[49m\u001B[38;5;241;43m=\u001B[39;49m\u001B[43mquotechar\u001B[49m\u001B[43m)\u001B[49m\n\u001B[0;32m   1400\u001B[0m \u001B[38;5;28;01mreturn\u001B[39;00m arr\n",
      "File \u001B[1;32mD:\\Bachelorarbeit\\Prediction Notebooks\\.venv2\\lib\\site-packages\\numpy\\lib\\_npyio_impl.py:1038\u001B[0m, in \u001B[0;36m_read\u001B[1;34m(fname, delimiter, comment, quote, imaginary_unit, usecols, skiplines, max_rows, converters, ndmin, unpack, dtype, encoding)\u001B[0m\n\u001B[0;32m   1033\u001B[0m \u001B[38;5;28;01mexcept\u001B[39;00m \u001B[38;5;167;01mTypeError\u001B[39;00m \u001B[38;5;28;01mas\u001B[39;00m e:\n\u001B[0;32m   1034\u001B[0m     \u001B[38;5;28;01mraise\u001B[39;00m \u001B[38;5;167;01mValueError\u001B[39;00m(\n\u001B[0;32m   1035\u001B[0m         \u001B[38;5;124mf\u001B[39m\u001B[38;5;124m\"\u001B[39m\u001B[38;5;124mfname must be a string, filehandle, list of strings,\u001B[39m\u001B[38;5;130;01m\\n\u001B[39;00m\u001B[38;5;124m\"\u001B[39m\n\u001B[0;32m   1036\u001B[0m         \u001B[38;5;124mf\u001B[39m\u001B[38;5;124m\"\u001B[39m\u001B[38;5;124mor generator. Got \u001B[39m\u001B[38;5;132;01m{\u001B[39;00m\u001B[38;5;28mtype\u001B[39m(fname)\u001B[38;5;132;01m}\u001B[39;00m\u001B[38;5;124m instead.\u001B[39m\u001B[38;5;124m\"\u001B[39m) \u001B[38;5;28;01mfrom\u001B[39;00m\u001B[38;5;250m \u001B[39m\u001B[38;5;21;01me\u001B[39;00m\n\u001B[1;32m-> 1038\u001B[0m \u001B[38;5;28;01mwith\u001B[39;00m fh_closing_ctx:\n\u001B[0;32m   1039\u001B[0m     \u001B[38;5;28;01mif\u001B[39;00m comments \u001B[38;5;129;01mis\u001B[39;00m \u001B[38;5;129;01mnot\u001B[39;00m \u001B[38;5;28;01mNone\u001B[39;00m:\n\u001B[0;32m   1040\u001B[0m         \u001B[38;5;28;01mif\u001B[39;00m filelike:\n",
      "File \u001B[1;32mC:\\Program Files\\WindowsApps\\PythonSoftwareFoundation.Python.3.10_3.10.3056.0_x64__qbz5n2kfra8p0\\lib\\contextlib.py:340\u001B[0m, in \u001B[0;36mclosing.__exit__\u001B[1;34m(self, *exc_info)\u001B[0m\n\u001B[0;32m    339\u001B[0m \u001B[38;5;28;01mdef\u001B[39;00m\u001B[38;5;250m \u001B[39m\u001B[38;5;21m__exit__\u001B[39m(\u001B[38;5;28mself\u001B[39m, \u001B[38;5;241m*\u001B[39mexc_info):\n\u001B[1;32m--> 340\u001B[0m     \u001B[38;5;28;43mself\u001B[39;49m\u001B[38;5;241;43m.\u001B[39;49m\u001B[43mthing\u001B[49m\u001B[38;5;241;43m.\u001B[39;49m\u001B[43mclose\u001B[49m\u001B[43m(\u001B[49m\u001B[43m)\u001B[49m\n",
      "\u001B[1;31mKeyboardInterrupt\u001B[0m: "
     ]
    }
   ],
   "execution_count": 9
  },
  {
   "metadata": {
    "ExecuteTime": {
     "end_time": "2025-06-27T10:25:43.881320Z",
     "start_time": "2025-06-27T08:29:51.016142Z"
    }
   },
   "cell_type": "code",
   "source": [
    "\n",
    "# Cross-validation with tuned model\n",
    "results_all = []\n",
    "models = []\n",
    "conf_matrices = []\n",
    "pbar = tqdm(total=kf.get_n_splits(all_data, stratify_labels))\n",
    "\n",
    "for fold, (train_idx, val_idx) in enumerate(kf.split(all_data, stratify_labels)):\n",
    "    print(f\"Fold {fold + 1}\")\n",
    "\n",
    "    train_set = [all_data[i] for i in train_idx]\n",
    "    val_set = [all_data[i] for i in val_idx]\n",
    "\n",
    "    train_phages = [x[0] for x in train_set]\n",
    "    train_hosts = [x[1] for x in train_set]\n",
    "    train_labels = [x[2] for x in train_set]\n",
    "\n",
    "    val_phages = [x[0] for x in val_set]\n",
    "    val_hosts = [x[1] for x in val_set]\n",
    "    val_labels = [x[2] for x in val_set]\n",
    "\n",
    "    X_phage_dna_tr, X_host_dna_tr, X_phage_pro_tr, X_host_pro_tr, y_train = obtain_features(\n",
    "        train_phages, train_hosts, train_labels, dna_base, pro_base)\n",
    "    X_phage_dna_val, X_host_dna_val, X_phage_pro_val, X_host_pro_val, y_val = obtain_features(\n",
    "        val_phages, val_hosts, val_labels, dna_base, pro_base)\n",
    "\n",
    "    X_train_combined = combine_features(X_phage_dna_tr, X_host_dna_tr, X_phage_pro_tr, X_host_pro_tr)\n",
    "    X_val_combined = combine_features(X_phage_dna_val, X_host_dna_val, X_phage_pro_val, X_host_pro_val)\n",
    "\n",
    "    best_model = XGBRegressor(**best_params, objective='reg:squarederror', n_jobs=-1, random_state=42)\n",
    "    best_model.fit(X_train_combined, y_train)\n",
    "    models.append(best_model)\n",
    "\n",
    "    y_pred = best_model.predict(X_val_combined)\n",
    "\n",
    "    try:\n",
    "         fold_scores, cm = scores_regression(y_val, y_pred) \n",
    "    except Exception as e:\n",
    "        print(f\"Error on fold: {e}\")\n",
    "        fold_scores = [np.nan] * 3\n",
    "\n",
    "    results_all.append(fold_scores)\n",
    "    conf_matrices.append(cm)\n",
    "    pbar.update(1)\n",
    "\n",
    "pbar.close()\n"
   ],
   "id": "d3a4e5e596fd4eb",
   "outputs": [
    {
     "name": "stderr",
     "output_type": "stream",
     "text": [
      "  0%|          | 0/5 [00:00<?, ?it/s]"
     ]
    },
    {
     "name": "stdout",
     "output_type": "stream",
     "text": [
      "Fold 1\n"
     ]
    },
    {
     "name": "stderr",
     "output_type": "stream",
     "text": [
      " 20%|██        | 1/5 [22:42<1:30:51, 1362.77s/it]"
     ]
    },
    {
     "name": "stdout",
     "output_type": "stream",
     "text": [
      "Fold 2\n"
     ]
    },
    {
     "name": "stderr",
     "output_type": "stream",
     "text": [
      " 40%|████      | 2/5 [56:19<1:27:23, 1747.74s/it]"
     ]
    },
    {
     "name": "stdout",
     "output_type": "stream",
     "text": [
      "Fold 3\n"
     ]
    },
    {
     "name": "stderr",
     "output_type": "stream",
     "text": [
      " 60%|██████    | 3/5 [1:30:18<1:02:40, 1880.32s/it]"
     ]
    },
    {
     "name": "stdout",
     "output_type": "stream",
     "text": [
      "Fold 4\n"
     ]
    },
    {
     "ename": "XGBoostError",
     "evalue": "[12:25:42] C:\\actions-runner\\_work\\xgboost\\xgboost\\src\\common\\io.h:389: bad_malloc: Failed to allocate 23066264352 bytes.",
     "output_type": "error",
     "traceback": [
      "\u001B[1;31m---------------------------------------------------------------------------\u001B[0m",
      "\u001B[1;31mXGBoostError\u001B[0m                              Traceback (most recent call last)",
      "Cell \u001B[1;32mIn[8], line 30\u001B[0m\n\u001B[0;32m     27\u001B[0m X_val_combined \u001B[38;5;241m=\u001B[39m combine_features(X_phage_dna_val, X_host_dna_val, X_phage_pro_val, X_host_pro_val)\n\u001B[0;32m     29\u001B[0m best_model \u001B[38;5;241m=\u001B[39m XGBRegressor(\u001B[38;5;241m*\u001B[39m\u001B[38;5;241m*\u001B[39mbest_params, objective\u001B[38;5;241m=\u001B[39m\u001B[38;5;124m'\u001B[39m\u001B[38;5;124mreg:squarederror\u001B[39m\u001B[38;5;124m'\u001B[39m, n_jobs\u001B[38;5;241m=\u001B[39m\u001B[38;5;241m-\u001B[39m\u001B[38;5;241m1\u001B[39m, random_state\u001B[38;5;241m=\u001B[39m\u001B[38;5;241m42\u001B[39m)\n\u001B[1;32m---> 30\u001B[0m \u001B[43mbest_model\u001B[49m\u001B[38;5;241;43m.\u001B[39;49m\u001B[43mfit\u001B[49m\u001B[43m(\u001B[49m\u001B[43mX_train_combined\u001B[49m\u001B[43m,\u001B[49m\u001B[43m \u001B[49m\u001B[43my_train\u001B[49m\u001B[43m)\u001B[49m\n\u001B[0;32m     31\u001B[0m models\u001B[38;5;241m.\u001B[39mappend(best_model)\n\u001B[0;32m     33\u001B[0m y_pred \u001B[38;5;241m=\u001B[39m best_model\u001B[38;5;241m.\u001B[39mpredict(X_val_combined)\n",
      "File \u001B[1;32mD:\\Bachelorarbeit\\Prediction Notebooks\\.venv2\\lib\\site-packages\\xgboost\\core.py:729\u001B[0m, in \u001B[0;36mrequire_keyword_args.<locals>.throw_if.<locals>.inner_f\u001B[1;34m(*args, **kwargs)\u001B[0m\n\u001B[0;32m    727\u001B[0m \u001B[38;5;28;01mfor\u001B[39;00m k, arg \u001B[38;5;129;01min\u001B[39;00m \u001B[38;5;28mzip\u001B[39m(sig\u001B[38;5;241m.\u001B[39mparameters, args):\n\u001B[0;32m    728\u001B[0m     kwargs[k] \u001B[38;5;241m=\u001B[39m arg\n\u001B[1;32m--> 729\u001B[0m \u001B[38;5;28;01mreturn\u001B[39;00m func(\u001B[38;5;241m*\u001B[39m\u001B[38;5;241m*\u001B[39mkwargs)\n",
      "File \u001B[1;32mD:\\Bachelorarbeit\\Prediction Notebooks\\.venv2\\lib\\site-packages\\xgboost\\sklearn.py:1247\u001B[0m, in \u001B[0;36mXGBModel.fit\u001B[1;34m(self, X, y, sample_weight, base_margin, eval_set, verbose, xgb_model, sample_weight_eval_set, base_margin_eval_set, feature_weights)\u001B[0m\n\u001B[0;32m   1244\u001B[0m \u001B[38;5;28;01melse\u001B[39;00m:\n\u001B[0;32m   1245\u001B[0m     obj \u001B[38;5;241m=\u001B[39m \u001B[38;5;28;01mNone\u001B[39;00m\n\u001B[1;32m-> 1247\u001B[0m \u001B[38;5;28mself\u001B[39m\u001B[38;5;241m.\u001B[39m_Booster \u001B[38;5;241m=\u001B[39m \u001B[43mtrain\u001B[49m\u001B[43m(\u001B[49m\n\u001B[0;32m   1248\u001B[0m \u001B[43m    \u001B[49m\u001B[43mparams\u001B[49m\u001B[43m,\u001B[49m\n\u001B[0;32m   1249\u001B[0m \u001B[43m    \u001B[49m\u001B[43mtrain_dmatrix\u001B[49m\u001B[43m,\u001B[49m\n\u001B[0;32m   1250\u001B[0m \u001B[43m    \u001B[49m\u001B[38;5;28;43mself\u001B[39;49m\u001B[38;5;241;43m.\u001B[39;49m\u001B[43mget_num_boosting_rounds\u001B[49m\u001B[43m(\u001B[49m\u001B[43m)\u001B[49m\u001B[43m,\u001B[49m\n\u001B[0;32m   1251\u001B[0m \u001B[43m    \u001B[49m\u001B[43mevals\u001B[49m\u001B[38;5;241;43m=\u001B[39;49m\u001B[43mevals\u001B[49m\u001B[43m,\u001B[49m\n\u001B[0;32m   1252\u001B[0m \u001B[43m    \u001B[49m\u001B[43mearly_stopping_rounds\u001B[49m\u001B[38;5;241;43m=\u001B[39;49m\u001B[38;5;28;43mself\u001B[39;49m\u001B[38;5;241;43m.\u001B[39;49m\u001B[43mearly_stopping_rounds\u001B[49m\u001B[43m,\u001B[49m\n\u001B[0;32m   1253\u001B[0m \u001B[43m    \u001B[49m\u001B[43mevals_result\u001B[49m\u001B[38;5;241;43m=\u001B[39;49m\u001B[43mevals_result\u001B[49m\u001B[43m,\u001B[49m\n\u001B[0;32m   1254\u001B[0m \u001B[43m    \u001B[49m\u001B[43mobj\u001B[49m\u001B[38;5;241;43m=\u001B[39;49m\u001B[43mobj\u001B[49m\u001B[43m,\u001B[49m\n\u001B[0;32m   1255\u001B[0m \u001B[43m    \u001B[49m\u001B[43mcustom_metric\u001B[49m\u001B[38;5;241;43m=\u001B[39;49m\u001B[43mmetric\u001B[49m\u001B[43m,\u001B[49m\n\u001B[0;32m   1256\u001B[0m \u001B[43m    \u001B[49m\u001B[43mverbose_eval\u001B[49m\u001B[38;5;241;43m=\u001B[39;49m\u001B[43mverbose\u001B[49m\u001B[43m,\u001B[49m\n\u001B[0;32m   1257\u001B[0m \u001B[43m    \u001B[49m\u001B[43mxgb_model\u001B[49m\u001B[38;5;241;43m=\u001B[39;49m\u001B[43mmodel\u001B[49m\u001B[43m,\u001B[49m\n\u001B[0;32m   1258\u001B[0m \u001B[43m    \u001B[49m\u001B[43mcallbacks\u001B[49m\u001B[38;5;241;43m=\u001B[39;49m\u001B[38;5;28;43mself\u001B[39;49m\u001B[38;5;241;43m.\u001B[39;49m\u001B[43mcallbacks\u001B[49m\u001B[43m,\u001B[49m\n\u001B[0;32m   1259\u001B[0m \u001B[43m\u001B[49m\u001B[43m)\u001B[49m\n\u001B[0;32m   1261\u001B[0m \u001B[38;5;28mself\u001B[39m\u001B[38;5;241m.\u001B[39m_set_evaluation_result(evals_result)\n\u001B[0;32m   1262\u001B[0m \u001B[38;5;28;01mreturn\u001B[39;00m \u001B[38;5;28mself\u001B[39m\n",
      "File \u001B[1;32mD:\\Bachelorarbeit\\Prediction Notebooks\\.venv2\\lib\\site-packages\\xgboost\\core.py:729\u001B[0m, in \u001B[0;36mrequire_keyword_args.<locals>.throw_if.<locals>.inner_f\u001B[1;34m(*args, **kwargs)\u001B[0m\n\u001B[0;32m    727\u001B[0m \u001B[38;5;28;01mfor\u001B[39;00m k, arg \u001B[38;5;129;01min\u001B[39;00m \u001B[38;5;28mzip\u001B[39m(sig\u001B[38;5;241m.\u001B[39mparameters, args):\n\u001B[0;32m    728\u001B[0m     kwargs[k] \u001B[38;5;241m=\u001B[39m arg\n\u001B[1;32m--> 729\u001B[0m \u001B[38;5;28;01mreturn\u001B[39;00m func(\u001B[38;5;241m*\u001B[39m\u001B[38;5;241m*\u001B[39mkwargs)\n",
      "File \u001B[1;32mD:\\Bachelorarbeit\\Prediction Notebooks\\.venv2\\lib\\site-packages\\xgboost\\training.py:183\u001B[0m, in \u001B[0;36mtrain\u001B[1;34m(params, dtrain, num_boost_round, evals, obj, maximize, early_stopping_rounds, evals_result, verbose_eval, xgb_model, callbacks, custom_metric)\u001B[0m\n\u001B[0;32m    181\u001B[0m \u001B[38;5;28;01mif\u001B[39;00m cb_container\u001B[38;5;241m.\u001B[39mbefore_iteration(bst, i, dtrain, evals):\n\u001B[0;32m    182\u001B[0m     \u001B[38;5;28;01mbreak\u001B[39;00m\n\u001B[1;32m--> 183\u001B[0m \u001B[43mbst\u001B[49m\u001B[38;5;241;43m.\u001B[39;49m\u001B[43mupdate\u001B[49m\u001B[43m(\u001B[49m\u001B[43mdtrain\u001B[49m\u001B[43m,\u001B[49m\u001B[43m \u001B[49m\u001B[43miteration\u001B[49m\u001B[38;5;241;43m=\u001B[39;49m\u001B[43mi\u001B[49m\u001B[43m,\u001B[49m\u001B[43m \u001B[49m\u001B[43mfobj\u001B[49m\u001B[38;5;241;43m=\u001B[39;49m\u001B[43mobj\u001B[49m\u001B[43m)\u001B[49m\n\u001B[0;32m    184\u001B[0m \u001B[38;5;28;01mif\u001B[39;00m cb_container\u001B[38;5;241m.\u001B[39mafter_iteration(bst, i, dtrain, evals):\n\u001B[0;32m    185\u001B[0m     \u001B[38;5;28;01mbreak\u001B[39;00m\n",
      "File \u001B[1;32mD:\\Bachelorarbeit\\Prediction Notebooks\\.venv2\\lib\\site-packages\\xgboost\\core.py:2246\u001B[0m, in \u001B[0;36mBooster.update\u001B[1;34m(self, dtrain, iteration, fobj)\u001B[0m\n\u001B[0;32m   2243\u001B[0m \u001B[38;5;28mself\u001B[39m\u001B[38;5;241m.\u001B[39m_assign_dmatrix_features(dtrain)\n\u001B[0;32m   2245\u001B[0m \u001B[38;5;28;01mif\u001B[39;00m fobj \u001B[38;5;129;01mis\u001B[39;00m \u001B[38;5;28;01mNone\u001B[39;00m:\n\u001B[1;32m-> 2246\u001B[0m     \u001B[43m_check_call\u001B[49m\u001B[43m(\u001B[49m\n\u001B[0;32m   2247\u001B[0m \u001B[43m        \u001B[49m\u001B[43m_LIB\u001B[49m\u001B[38;5;241;43m.\u001B[39;49m\u001B[43mXGBoosterUpdateOneIter\u001B[49m\u001B[43m(\u001B[49m\n\u001B[0;32m   2248\u001B[0m \u001B[43m            \u001B[49m\u001B[38;5;28;43mself\u001B[39;49m\u001B[38;5;241;43m.\u001B[39;49m\u001B[43mhandle\u001B[49m\u001B[43m,\u001B[49m\u001B[43m \u001B[49m\u001B[43mctypes\u001B[49m\u001B[38;5;241;43m.\u001B[39;49m\u001B[43mc_int\u001B[49m\u001B[43m(\u001B[49m\u001B[43miteration\u001B[49m\u001B[43m)\u001B[49m\u001B[43m,\u001B[49m\u001B[43m \u001B[49m\u001B[43mdtrain\u001B[49m\u001B[38;5;241;43m.\u001B[39;49m\u001B[43mhandle\u001B[49m\n\u001B[0;32m   2249\u001B[0m \u001B[43m        \u001B[49m\u001B[43m)\u001B[49m\n\u001B[0;32m   2250\u001B[0m \u001B[43m    \u001B[49m\u001B[43m)\u001B[49m\n\u001B[0;32m   2251\u001B[0m \u001B[38;5;28;01melse\u001B[39;00m:\n\u001B[0;32m   2252\u001B[0m     pred \u001B[38;5;241m=\u001B[39m \u001B[38;5;28mself\u001B[39m\u001B[38;5;241m.\u001B[39mpredict(dtrain, output_margin\u001B[38;5;241m=\u001B[39m\u001B[38;5;28;01mTrue\u001B[39;00m, training\u001B[38;5;241m=\u001B[39m\u001B[38;5;28;01mTrue\u001B[39;00m)\n",
      "File \u001B[1;32mD:\\Bachelorarbeit\\Prediction Notebooks\\.venv2\\lib\\site-packages\\xgboost\\core.py:310\u001B[0m, in \u001B[0;36m_check_call\u001B[1;34m(ret)\u001B[0m\n\u001B[0;32m    299\u001B[0m \u001B[38;5;250m\u001B[39m\u001B[38;5;124;03m\"\"\"Check the return value of C API call\u001B[39;00m\n\u001B[0;32m    300\u001B[0m \n\u001B[0;32m    301\u001B[0m \u001B[38;5;124;03mThis function will raise exception when error occurs.\u001B[39;00m\n\u001B[1;32m   (...)\u001B[0m\n\u001B[0;32m    307\u001B[0m \u001B[38;5;124;03m    return value from API calls\u001B[39;00m\n\u001B[0;32m    308\u001B[0m \u001B[38;5;124;03m\"\"\"\u001B[39;00m\n\u001B[0;32m    309\u001B[0m \u001B[38;5;28;01mif\u001B[39;00m ret \u001B[38;5;241m!=\u001B[39m \u001B[38;5;241m0\u001B[39m:\n\u001B[1;32m--> 310\u001B[0m     \u001B[38;5;28;01mraise\u001B[39;00m XGBoostError(py_str(_LIB\u001B[38;5;241m.\u001B[39mXGBGetLastError()))\n",
      "\u001B[1;31mXGBoostError\u001B[0m: [12:25:42] C:\\actions-runner\\_work\\xgboost\\xgboost\\src\\common\\io.h:389: bad_malloc: Failed to allocate 23066264352 bytes."
     ]
    }
   ],
   "execution_count": 8
  },
  {
   "metadata": {},
   "cell_type": "code",
   "outputs": [],
   "execution_count": null,
   "source": [
    "metric_names = [\"MSE\", \"RMSE\", \"MAE\", \"R2\"]\n",
    "\n",
    "results_array = np.array(results_all)\n",
    "results_df = pd.DataFrame(results_array, columns=metric_names)\n",
    "results_df.index = [f\"Fold {i + 1}\" for i in range(len(results_all))]\n",
    "\n",
    "# Print fold-wise results\n",
    "print(\"=== Fold-wise Performance ===\")\n",
    "display(results_df)\n",
    "\n",
    "# Summary stats\n",
    "print(\"\\n=== Mean ===\")\n",
    "display(results_df.mean())\n",
    "\n",
    "print(\"\\n=== Std Dev ===\")\n",
    "display(results_df.std())"
   ],
   "id": "8234869d6a4456cf"
  },
  {
   "metadata": {},
   "cell_type": "code",
   "outputs": [],
   "execution_count": null,
   "source": [
    "import matplotlib.pyplot as plt\n",
    "\n",
    "# Assuming results_array[:, 0] contains MSE values per fold\n",
    "mse_values = results_array[:, 0]\n",
    "\n",
    "plt.figure(figsize=(8, 5))\n",
    "plt.plot(range(1, len(mse_values) + 1), mse_values, marker='o', linestyle='-', color='blue', label='MSE per fold')\n",
    "plt.axhline(np.mean(mse_values), color='red', linestyle='--', label='Mean MSE')\n",
    "plt.title('Mean Squared Error (MSE) Across Folds')\n",
    "plt.xlabel('Fold')\n",
    "plt.ylabel('MSE')\n",
    "plt.xticks(range(1, len(mse_values) + 1))\n",
    "plt.legend()\n",
    "plt.grid(True)\n",
    "plt.tight_layout()\n",
    "plt.show()\n",
    "plt.figure(figsize=(12, 6))\n",
    "plt.boxplot(results_array, tick_labels=metric_names, patch_artist=True,\n",
    "            boxprops=dict(facecolor='lightgreen', color='black'),\n",
    "            medianprops=dict(color='darkred'),\n",
    "            whiskerprops=dict(color='black'))\n",
    "plt.title(\"Random Forest Regressor Cross-Fold Metric Distribution\")\n",
    "plt.grid()\n",
    "plt.show()"
   ],
   "id": "c472766a77df2c80"
  },
  {
   "metadata": {},
   "cell_type": "code",
   "outputs": [],
   "execution_count": null,
   "source": [
    "\n",
    "import seaborn as sns\n",
    "import matplotlib.pyplot as plt\n",
    "import numpy as np\n",
    "\n",
    "# Step 1: Sum all confusion matrices\n",
    "avg_cm = np.sum(conf_matrices, axis=0)\n",
    "print(avg_cm)\n",
    "\n",
    "# Step 2: Plot the averaged confusion matrix\n",
    "plt.figure(figsize=(6, 5))\n",
    "sns.heatmap(avg_cm, annot=True, fmt='g', cmap='Blues', cbar=False,\n",
    "            xticklabels=[0, 1, 2, 3, 4], yticklabels=[0, 1, 2, 3, 4])\n",
    "plt.xlabel(\"Predicted Label\")\n",
    "plt.ylabel(\"True Label\")\n",
    "plt.title(\"Confusion Matrix (All Folds)\")\n",
    "plt.show()"
   ],
   "id": "83576580ff8eeb91"
  },
  {
   "metadata": {},
   "cell_type": "code",
   "outputs": [],
   "execution_count": null,
   "source": [
    "\n",
    "import seaborn as sns\n",
    "import matplotlib.pyplot as plt\n",
    "\n",
    "for i, cm in enumerate(conf_matrices):\n",
    "    plt.figure(figsize=(6, 5))\n",
    "    sns.heatmap(cm, annot=True, fmt='d', cmap='Blues', cbar=False,\n",
    "                xticklabels=[0, 1, 2, 3, 4], yticklabels=[0, 1, 2, 3, 4])\n",
    "    plt.xlabel(\"Predicted Label\")\n",
    "    plt.ylabel(\"True Label\")\n",
    "    plt.title(f\"Confusion Matrix - Fold {i + 1}\")\n",
    "    plt.show()\n",
    "    "
   ],
   "id": "f2a8c6b7c52c5b32"
  },
  {
   "metadata": {},
   "cell_type": "code",
   "outputs": [],
   "execution_count": null,
   "source": [
    "all_y_true = []\n",
    "all_y_pred = []\n",
    "\n",
    "for train_idx, test_idx in kf.split(X_full, labels):\n",
    "    X_test = X_full[test_idx]\n",
    "    y_test = labels[test_idx]\n",
    "    y_pred = models[i].predict(X_test)\n",
    "\n",
    "    all_y_true.extend(y_test)\n",
    "    all_y_pred.extend(y_pred)\n",
    "\n",
    "# Convert to NumPy arrays for plotting\n",
    "all_y_true = np.array(all_y_true)\n",
    "all_y_pred = np.array(all_y_pred)\n",
    "\n",
    "# Plotting combined true vs. predicted labels\n",
    "plt.figure(figsize=(6, 4))\n",
    "plt.scatter(all_y_true, all_y_pred, alpha=0.6, color='darkorange')\n",
    "plt.xlabel(\"True Labels\")\n",
    "plt.ylabel(\"Predicted Labels\")\n",
    "plt.title(\"True vs. Predicted Labels (All Folds Combined)\")\n",
    "plt.plot([0, 4], [0, 4], 'r--')  # identity line\n",
    "plt.xlim(-0.5, 4.5)\n",
    "plt.ylim(-0.5, 4.5)\n",
    "plt.grid(True)\n",
    "plt.show()"
   ],
   "id": "f823f82a273e35e3"
  },
  {
   "metadata": {},
   "cell_type": "code",
   "outputs": [],
   "execution_count": null,
   "source": [
    "for i, (train_idx, test_idx) in enumerate(kf.split(X_full, labels)):\n",
    "    X_test = X_full[test_idx]\n",
    "    y_test = labels[test_idx]\n",
    "    y_pred = models[i].predict(X_test)\n",
    "\n",
    "    plt.figure(figsize=(6, 4))\n",
    "    plt.scatter(y_test, y_pred, alpha=0.5)\n",
    "    plt.xlabel(\"True Labels\")\n",
    "    plt.ylabel(\"Predicted Labels\")\n",
    "    plt.title(f\"Fold {i + 1} - True vs. Predicted\")\n",
    "    plt.grid()\n",
    "    plt.plot([0, 4], [0, 4], 'r--')\n",
    "    plt.xlim(-0.5, 4.5)\n",
    "    plt.ylim(-0.5, 4.5)\n",
    "    plt.show()\n"
   ],
   "id": "fc56bfa2d2188bb7"
  },
  {
   "metadata": {},
   "cell_type": "code",
   "outputs": [],
   "execution_count": null,
   "source": [
    "labels = np.asarray([row[2] for row in all_data])\n",
    "\n",
    "binner = KBinsDiscretizer(n_bins=5, encode='ordinal', strategy='uniform')\n",
    "stratify_labels = binner.fit_transform(labels.reshape(-1, 1)).astype(int).ravel()\n",
    "\n",
    "features_full = []\n",
    "for row in all_data:\n",
    "    phage, host, label = row\n",
    "    X_phage_dna, X_host_dna, X_phage_pro, X_host_pro, _ = obtain_features(\n",
    "        [phage], [host], [label], dna_base, pro_base)\n",
    "    combined = combine_features(X_phage_dna, X_host_dna, X_phage_pro, X_host_pro)\n",
    "    features_full.append(combined)\n",
    "\n",
    "features_full = np.vstack(features_full)\n",
    "\n",
    "# Hyperparameter tuning\n",
    "param_grid = {\n",
    "    'n_estimators': [200,250],\n",
    "    'max_depth': [15, 20],\n",
    "    'min_samples_leaf': [8, 10],\n",
    "}\n",
    "\n",
    "rf_base = RandomForestRegressor(random_state=42)\n",
    "grid_search = GridSearchCV(\n",
    "    rf_base,\n",
    "    param_grid,\n",
    "    cv=3,\n",
    "    n_jobs=-1,\n",
    "    scoring='neg_mean_squared_error',\n",
    "    verbose=1\n",
    ")\n",
    "grid_search.fit(features_full, labels)\n",
    "best_params = grid_search.best_params_\n",
    "print(\"Best Hyperparameters:\", best_params)"
   ],
   "id": "b23dc2d8ee88617c"
  },
  {
   "metadata": {},
   "cell_type": "code",
   "outputs": [],
   "execution_count": null,
   "source": [
    "kf = StratifiedKFold(n_splits=5, shuffle=True, random_state=42)\n",
    "results_all = []\n",
    "models = []\n",
    "conf_matrices = []\n",
    "\n",
    "pbar = tqdm(total=kf.get_n_splits(all_data, stratify_labels))\n",
    "\n",
    "for fold, (train_idx, val_idx) in enumerate(kf.split(all_data, stratify_labels)):\n",
    "    print(f\"Fold {fold + 1}\")\n",
    "\n",
    "    train_set = [all_data[i] for i in train_idx]\n",
    "    val_set = [all_data[i] for i in val_idx]\n",
    "\n",
    "    train_phages = [x[0] for x in train_set]\n",
    "    train_hosts = [x[1] for x in train_set]\n",
    "    train_labels = [x[2] for x in train_set]\n",
    "\n",
    "    val_phages = [x[0] for x in val_set]\n",
    "    val_hosts = [x[1] for x in val_set]\n",
    "    val_labels = [x[2] for x in val_set]\n",
    "\n",
    "    X_phage_dna_tr, X_host_dna_tr, X_phage_pro_tr, X_host_pro_tr, y_train = obtain_features(\n",
    "        train_phages, train_hosts, train_labels, dna_base, pro_base)\n",
    "    X_phage_dna_val, X_host_dna_val, X_phage_pro_val, X_host_pro_val, y_val = obtain_features(\n",
    "        val_phages, val_hosts, val_labels, dna_base, pro_base)\n",
    "\n",
    "    X_train_combined = combine_features(X_phage_dna_tr, X_host_dna_tr, X_phage_pro_tr, X_host_pro_tr)\n",
    "    X_val_combined = combine_features(X_phage_dna_val, X_host_dna_val, X_phage_pro_val, X_host_pro_val)\n",
    "\n",
    "    # Train Random Forest with best params\n",
    "    model = RandomForestRegressor(**best_params, random_state=42, n_jobs=-1)\n",
    "    model.fit(X_train_combined, y_train)\n",
    "    models.append(model)\n",
    "\n",
    "    y_pred = model.predict(X_val_combined)\n",
    "\n",
    "    try:\n",
    "        fold_scores,cm = scores_regression(y_val, y_pred)  # e.g., [RMSE, MAE, R2]\n",
    "    except Exception as e:\n",
    "        print(f\"Error in fold {fold+1}: {e}\")\n",
    "        fold_scores = [np.nan] * 3\n",
    "\n",
    "    print(f\"Fold {fold+1} | RMSE: {fold_scores[0]:.4f}, MAE: {fold_scores[1]:.4f}, R2: {fold_scores[2]:.4f}\")\n",
    "    results_all.append(fold_scores)\n",
    "    conf_matrices.append(cm)\n",
    "    pbar.update(1)\n",
    "\n",
    "pbar.close()\n"
   ],
   "id": "e5929421e0fadbbd"
  },
  {
   "metadata": {},
   "cell_type": "code",
   "outputs": [],
   "execution_count": null,
   "source": [
    "metric_names = [\"MSE\", \"RMSE\", \"MAE\", \"R2\"]\n",
    "\n",
    "results_array = np.array(results_all)\n",
    "results_df = pd.DataFrame(results_array, columns=metric_names)\n",
    "results_df.index = [f\"Fold {i + 1}\" for i in range(len(results_all))]\n",
    "\n",
    "# Print fold-wise results\n",
    "print(\"=== Fold-wise Performance ===\")\n",
    "display(results_df)\n",
    "\n",
    "# Summary stats\n",
    "print(\"\\n=== Mean ===\")\n",
    "display(results_df.mean())\n",
    "\n",
    "print(\"\\n=== Std Dev ===\")\n",
    "display(results_df.std())"
   ],
   "id": "ecec46496b5dd899"
  },
  {
   "metadata": {},
   "cell_type": "code",
   "outputs": [],
   "execution_count": null,
   "source": [
    "\n",
    "import matplotlib.pyplot as plt\n",
    "\n",
    "# Assuming results_array[:, 0] contains MSE values per fold\n",
    "mse_values = results_array[:, 0]\n",
    "\n",
    "plt.figure(figsize=(8, 5))\n",
    "plt.plot(range(1, len(mse_values) + 1), mse_values, marker='o', linestyle='-', color='blue', label='MSE per fold')\n",
    "plt.axhline(np.mean(mse_values), color='red', linestyle='--', label='Mean MSE')\n",
    "plt.title('Mean Squared Error (MSE) Across Folds')\n",
    "plt.xlabel('Fold')\n",
    "plt.ylabel('MSE')\n",
    "plt.xticks(range(1, len(mse_values) + 1))\n",
    "plt.legend()\n",
    "plt.grid(True)\n",
    "plt.tight_layout()\n",
    "plt.show()\n",
    "plt.figure(figsize=(12, 6))\n",
    "plt.boxplot(results_array, tick_labels=metric_names, patch_artist=True,\n",
    "            boxprops=dict(facecolor='lightgreen', color='black'),\n",
    "            medianprops=dict(color='darkred'),\n",
    "            whiskerprops=dict(color='black'))\n",
    "plt.title(\"Random Forest Regressor Cross-Fold Metric Distribution\")\n",
    "plt.grid()\n",
    "plt.show()"
   ],
   "id": "367ffa5b209fbed2"
  },
  {
   "metadata": {},
   "cell_type": "code",
   "outputs": [],
   "execution_count": null,
   "source": [
    "\n",
    "import seaborn as sns\n",
    "import matplotlib.pyplot as plt\n",
    "import numpy as np\n",
    "\n",
    "# Step 1: Sum all confusion matrices\n",
    "avg_cm = np.sum(conf_matrices, axis=0)\n",
    "print(avg_cm)\n",
    "\n",
    "# Step 2: Plot the averaged confusion matrix\n",
    "plt.figure(figsize=(6, 5))\n",
    "sns.heatmap(avg_cm, annot=True, fmt='g', cmap='Blues', cbar=False,\n",
    "            xticklabels=[0, 1, 2, 3, 4], yticklabels=[0, 1, 2, 3, 4])\n",
    "plt.xlabel(\"Predicted Label\")\n",
    "plt.ylabel(\"True Label\")\n",
    "plt.title(\"Confusion Matrix (All Folds)\")\n",
    "plt.show()"
   ],
   "id": "75fad1d7d9919700"
  },
  {
   "metadata": {},
   "cell_type": "code",
   "outputs": [],
   "execution_count": null,
   "source": [
    "\n",
    "import seaborn as sns\n",
    "import matplotlib.pyplot as plt\n",
    "\n",
    "for i, cm in enumerate(conf_matrices):\n",
    "    plt.figure(figsize=(6, 5))\n",
    "    sns.heatmap(cm, annot=True, fmt='d', cmap='Blues', cbar=False,\n",
    "                xticklabels=[0, 1, 2, 3, 4], yticklabels=[0, 1, 2, 3, 4])\n",
    "    plt.xlabel(\"Predicted Label\")\n",
    "    plt.ylabel(\"True Label\")\n",
    "    plt.title(f\"Confusion Matrix - Fold {i + 1}\")\n",
    "    plt.show()"
   ],
   "id": "d43102c842844ec3"
  },
  {
   "metadata": {},
   "cell_type": "code",
   "outputs": [],
   "execution_count": null,
   "source": [
    "\n",
    "all_y_true = []\n",
    "all_y_pred = []\n",
    "\n",
    "for train_idx, test_idx in kf.split(features_full, labels):\n",
    "    X_test = features_full[test_idx]\n",
    "    y_test = labels[test_idx]\n",
    "    y_pred = models[i].predict(X_test)\n",
    "\n",
    "    all_y_true.extend(y_test)\n",
    "    all_y_pred.extend(y_pred)\n",
    "\n",
    "# Convert to NumPy arrays for plotting\n",
    "all_y_true = np.array(all_y_true)\n",
    "all_y_pred = np.array(all_y_pred)\n",
    "\n",
    "# Plotting combined true vs. predicted labels\n",
    "plt.figure(figsize=(6, 4))\n",
    "plt.scatter(all_y_true, all_y_pred, alpha=0.6, color='darkorange')\n",
    "plt.xlabel(\"True Labels\")\n",
    "plt.ylabel(\"Predicted Labels\")\n",
    "plt.title(\"True vs. Predicted Labels (All Folds Combined)\")\n",
    "plt.plot([0, 4], [0, 4], 'r--')  # identity line\n",
    "plt.xlim(-0.5, 4.5)\n",
    "plt.ylim(-0.5, 4.5)\n",
    "plt.grid(True)\n",
    "plt.show()"
   ],
   "id": "352f0317824eaca9"
  },
  {
   "metadata": {},
   "cell_type": "code",
   "outputs": [],
   "execution_count": null,
   "source": [
    "\n",
    "for i, (train_idx, test_idx) in enumerate(kf.split(features_full, labels)):\n",
    "    X_test = features_full[test_idx]\n",
    "    y_test = labels[test_idx]\n",
    "    y_pred = models[i].predict(X_test)\n",
    "\n",
    "    plt.figure(figsize=(6, 4))\n",
    "    plt.scatter(y_test, y_pred, alpha=0.5)\n",
    "    plt.xlabel(\"True Labels\")\n",
    "    plt.ylabel(\"Predicted Labels\")\n",
    "    plt.title(f\"Fold {i + 1} - True vs. Predicted\")\n",
    "    plt.grid()\n",
    "    plt.plot([0, 4], [0, 4], 'r--')\n",
    "    plt.xlim(-0.5, 4.5)\n",
    "    plt.ylim(-0.5, 4.5)\n",
    "    plt.show()\n"
   ],
   "id": "25c1d6165075550"
  },
  {
   "metadata": {},
   "cell_type": "code",
   "outputs": [],
   "execution_count": null,
   "source": "",
   "id": "4b1652e53736832a"
  }
 ],
 "metadata": {
  "kernelspec": {
   "display_name": "Python 3",
   "language": "python",
   "name": "python3"
  },
  "language_info": {
   "codemirror_mode": {
    "name": "ipython",
    "version": 2
   },
   "file_extension": ".py",
   "mimetype": "text/x-python",
   "name": "python",
   "nbconvert_exporter": "python",
   "pygments_lexer": "ipython2",
   "version": "2.7.6"
  }
 },
 "nbformat": 4,
 "nbformat_minor": 5
}
